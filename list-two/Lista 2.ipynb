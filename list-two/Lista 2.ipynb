{
 "cells": [
  {
   "cell_type": "markdown",
   "id": "57f7c4ac",
   "metadata": {},
   "source": [
    "### Questão 6"
   ]
  },
  {
   "cell_type": "code",
   "execution_count": 25,
   "id": "29c90670",
   "metadata": {
    "scrolled": true
   },
   "outputs": [
    {
     "data": {
      "image/png": "[encoded data removed]",
      "text/plain": [
       "<Figure size 432x288 with 1 Axes>"
      ]
     },
     "metadata": {
      "needs_background": "light"
     },
     "output_type": "display_data"
    }
   ],
   "source": [
    "import matplotlib.pyplot as plt\n",
    "import numpy as np\n",
    "\n",
    "received = [160, 184, 241, 149, 180, 161, 132, 202, 160, 139, 149, 177]\n",
    "processed = [160, 184, 237, 148, 181, 150, 123, 156, 126, 104, 124, 140]\n",
    "labels = ['Jan', 'Fev', 'Mar', 'Abr', 'Mai', 'Jun', 'Jul', 'Ago', 'Set', 'Out', 'Nov', 'Dez']\n",
    "\n",
    "plt.plot(labels, received, label=\"Recebidos\")\n",
    "plt.plot(labels, processed, label=\"Processados\")\n",
    "\n",
    "plt.legend()\n",
    "plt.show()"
   ]
  },
  {
   "cell_type": "markdown",
   "id": "fdd92e12",
   "metadata": {},
   "source": [
    "### Questão 7"
   ]
  },
  {
   "cell_type": "code",
   "execution_count": 26,
   "id": "f93bcbc7",
   "metadata": {},
   "outputs": [
    {
     "data": {
      "text/html": [
       "<div>\n",
       "<style scoped>\n",
       "    .dataframe tbody tr th:only-of-type {\n",
       "        vertical-align: middle;\n",
       "    }\n",
       "\n",
       "    .dataframe tbody tr th {\n",
       "        vertical-align: top;\n",
       "    }\n",
       "\n",
       "    .dataframe thead th {\n",
       "        text-align: right;\n",
       "    }\n",
       "</style>\n",
       "<table border=\"1\" class=\"dataframe\">\n",
       "  <thead>\n",
       "    <tr style=\"text-align: right;\">\n",
       "      <th></th>\n",
       "      <th>sent</th>\n",
       "      <th>class</th>\n",
       "    </tr>\n",
       "  </thead>\n",
       "  <tbody>\n",
       "    <tr>\n",
       "      <th>0</th>\n",
       "      <td>They are novels</td>\n",
       "      <td>stmt</td>\n",
       "    </tr>\n",
       "    <tr>\n",
       "      <th>1</th>\n",
       "      <td>have you read this book</td>\n",
       "      <td>question</td>\n",
       "    </tr>\n",
       "    <tr>\n",
       "      <th>2</th>\n",
       "      <td>who is the author</td>\n",
       "      <td>question</td>\n",
       "    </tr>\n",
       "    <tr>\n",
       "      <th>3</th>\n",
       "      <td>what are the characters</td>\n",
       "      <td>question</td>\n",
       "    </tr>\n",
       "    <tr>\n",
       "      <th>4</th>\n",
       "      <td>This is how I bought the book</td>\n",
       "      <td>stmt</td>\n",
       "    </tr>\n",
       "    <tr>\n",
       "      <th>5</th>\n",
       "      <td>I like fictions</td>\n",
       "      <td>stmt</td>\n",
       "    </tr>\n",
       "    <tr>\n",
       "      <th>6</th>\n",
       "      <td>what is your favorite book</td>\n",
       "      <td>question</td>\n",
       "    </tr>\n",
       "    <tr>\n",
       "      <th>7</th>\n",
       "      <td>This is my book</td>\n",
       "      <td>stmt</td>\n",
       "    </tr>\n",
       "  </tbody>\n",
       "</table>\n",
       "</div>"
      ],
      "text/plain": [
       "                            sent     class\n",
       "0                They are novels      stmt\n",
       "1        have you read this book  question\n",
       "2              who is the author  question\n",
       "3        what are the characters  question\n",
       "4  This is how I bought the book      stmt\n",
       "5                I like fictions      stmt\n",
       "6     what is your favorite book  question\n",
       "7                This is my book      stmt"
      ]
     },
     "execution_count": 26,
     "metadata": {},
     "output_type": "execute_result"
    }
   ],
   "source": [
    "from nltk.tokenize import word_tokenize\n",
    "from sklearn.feature_extraction.text import CountVectorizer\n",
    "import pandas as pd\n",
    "\n",
    "columns = ['sent', 'class']\n",
    "rows = []\n",
    "\n",
    "rows = [['They are novels', 'stmt'],\n",
    "        ['have you read this book', 'question'],\n",
    "        ['who is the author', 'question'],\n",
    "        ['what are the characters', 'question'],\n",
    "        ['This is how I bought the book', 'stmt'],\n",
    "        ['I like fictions', 'stmt'],\n",
    "        ['what is your favorite book', 'question'],\n",
    "        ['This is my book', 'stmt']]\n",
    "\n",
    "training_data = pd.DataFrame(rows, columns=columns)\n",
    "\n",
    "training_data"
   ]
  },
  {
   "cell_type": "code",
   "execution_count": 27,
   "id": "3d1492dc",
   "metadata": {},
   "outputs": [],
   "source": [
    "stmt_docs = [row['sent']\n",
    "             for index, row in training_data.iterrows() if row['class'] == 'stmt']\n",
    "\n",
    "question_docs = [row['sent']\n",
    "          for index, row in training_data.iterrows() if row['class'] == 'question']\n",
    "\n",
    "vec_s = CountVectorizer()\n",
    "vec_q = CountVectorizer()\n",
    "\n",
    "X_s = vec_s.fit_transform(stmt_docs)\n",
    "X_q = vec_q.fit_transform(question_docs)\n",
    "\n",
    "word_list_s = vec_s.get_feature_names()\n",
    "count_list_s = X_s.toarray().sum(axis=0)\n",
    "\n",
    "freq_s = dict(zip(word_list_s, count_list_s))\n",
    "\n",
    "word_list_q = vec_q.get_feature_names()\n",
    "count_list_q = X_q.toarray().sum(axis=0)\n",
    "\n",
    "freq_q = dict(zip(word_list_q, count_list_q))\n",
    "\n",
    "docs = [row['sent'] for index, row in training_data.iterrows()]\n",
    "\n",
    "vec = CountVectorizer()\n",
    "\n",
    "X = vec.fit_transform(docs)\n",
    "\n",
    "total_features = len(vec.get_feature_names())"
   ]
  },
  {
   "cell_type": "code",
   "execution_count": 28,
   "id": "14c76bb9",
   "metadata": {},
   "outputs": [
    {
     "data": {
      "text/plain": [
       "('what do you mean', 'question')"
      ]
     },
     "execution_count": 28,
     "metadata": {},
     "output_type": "execute_result"
    }
   ],
   "source": [
    "phrase = 'what do you mean'\n",
    "new_word_list = word_tokenize(phrase)\n",
    "\n",
    "prob_s, prob_q = [], []\n",
    "for word in new_word_list:\n",
    "    if word in freq_s.keys():\n",
    "        count = freq_s[word]\n",
    "    else:\n",
    "        count = 0\n",
    "    prob_s.append((count + 1)/(count_list_s.sum(axis=0) + total_features))\n",
    "\n",
    "for word in new_word_list:\n",
    "    if word in freq_q.keys():\n",
    "        count = freq_q[word]\n",
    "    else:\n",
    "        count = 0\n",
    "    prob_q.append((count + 1)/(count_list_q.sum(axis=0) + total_features))\n",
    "\n",
    "pq = .5;\n",
    "for value in prob_q:\n",
    "    pq *= value\n",
    "    \n",
    "ps = .5;\n",
    "for value in prob_s:\n",
    "    ps *= value\n",
    "    \n",
    "phrase, 'stmt' if ps > pq else 'question'"
   ]
  },
  {
   "cell_type": "markdown",
   "id": "7715f787",
   "metadata": {},
   "source": [
    "### Questão 8"
   ]
  },
  {
   "cell_type": "code",
   "execution_count": 32,
   "id": "7122e314",
   "metadata": {
    "scrolled": false
   },
   "outputs": [
    {
     "data": {
      "image/png": "[encoded data removed]",
      "text/plain": [
       "<Figure size 432x288 with 1 Axes>"
      ]
     },
     "metadata": {
      "needs_background": "light"
     },
     "output_type": "display_data"
    }
   ],
   "source": [
    "import matplotlib.pyplot as plt\n",
    "import pandas as pd\n",
    "\n",
    "df = pd.read_csv(\"Drugs.csv\", parse_dates=['date'], index_col=\"date\")\n",
    "\n",
    "df.plot()\n",
    "\n",
    "plt.show()"
   ]
  },
  {
   "cell_type": "markdown",
   "id": "c203e609",
   "metadata": {},
   "source": [
    "A análise da série temporal aponta uma tendência de crescimento no consumo de drogas ao longo dos anos. Além disso, é possível detectar ainda uma sazonalidade no aumento do consumo ao decorrer dos meses."
   ]
  }
 ],
 "metadata": {
  "kernelspec": {
   "display_name": "Python 3",
   "language": "python",
   "name": "python3"
  },
  "language_info": {
   "codemirror_mode": {
    "name": "ipython",
    "version": 3
   },
   "file_extension": ".py",
   "mimetype": "text/x-python",
   "name": "python",
   "nbconvert_exporter": "python",
   "pygments_lexer": "ipython3",
   "version": "3.7.9"
  }
 },
 "nbformat": 4,
 "nbformat_minor": 5
}
