{
 "cells": [
  {
   "cell_type": "code",
   "execution_count": 1,
   "id": "62638909",
   "metadata": {},
   "outputs": [],
   "source": [
    "import pandas as pd\n",
    "import matplotlib.pyplot as plt"
   ]
  },
  {
   "cell_type": "code",
   "execution_count": 2,
   "id": "2cc40e4a",
   "metadata": {},
   "outputs": [],
   "source": [
    "data = pd.read_csv('covid_al_160521.csv', low_memory=False)"
   ]
  },
  {
   "cell_type": "code",
   "execution_count": 3,
   "id": "5fc78570",
   "metadata": {},
   "outputs": [
    {
     "data": {
      "text/html": [
       "<div>\n",
       "<style scoped>\n",
       "    .dataframe tbody tr th:only-of-type {\n",
       "        vertical-align: middle;\n",
       "    }\n",
       "\n",
       "    .dataframe tbody tr th {\n",
       "        vertical-align: top;\n",
       "    }\n",
       "\n",
       "    .dataframe thead th {\n",
       "        text-align: right;\n",
       "    }\n",
       "</style>\n",
       "<table border=\"1\" class=\"dataframe\">\n",
       "  <thead>\n",
       "    <tr style=\"text-align: right;\">\n",
       "      <th></th>\n",
       "      <th>_id</th>\n",
       "      <th>id</th>\n",
       "      <th>etnia</th>\n",
       "      <th>sexo</th>\n",
       "      <th>municipio_residencia</th>\n",
       "      <th>classificacao</th>\n",
       "      <th>situacao_atual</th>\n",
       "      <th>data_resultado_exame</th>\n",
       "      <th>data_atendimento</th>\n",
       "      <th>tipo_coleta</th>\n",
       "      <th>...</th>\n",
       "      <th>idoso</th>\n",
       "      <th>profissional_saude</th>\n",
       "      <th>obesidade</th>\n",
       "      <th>doenca_renal_cronica</th>\n",
       "      <th>doenca_auto_imune</th>\n",
       "      <th>asma</th>\n",
       "      <th>sem_comorbidade</th>\n",
       "      <th>fator_nao_informado</th>\n",
       "      <th>outros_fatores</th>\n",
       "      <th>pneumopatia</th>\n",
       "    </tr>\n",
       "  </thead>\n",
       "  <tbody>\n",
       "    <tr>\n",
       "      <th>0</th>\n",
       "      <td>1</td>\n",
       "      <td>1</td>\n",
       "      <td>Ignorado</td>\n",
       "      <td>Masculino</td>\n",
       "      <td>Maceió</td>\n",
       "      <td>Confirmado</td>\n",
       "      <td>Encerramento do Isolamento Domiciliar</td>\n",
       "      <td>2020-03-08T03:00:00</td>\n",
       "      <td>2020-03-04T03:00:00</td>\n",
       "      <td>Swab nasofaringe + RT-PCR</td>\n",
       "      <td>...</td>\n",
       "      <td>NaN</td>\n",
       "      <td>NaN</td>\n",
       "      <td>NaN</td>\n",
       "      <td>NaN</td>\n",
       "      <td>NaN</td>\n",
       "      <td>NaN</td>\n",
       "      <td>NaN</td>\n",
       "      <td>NaN</td>\n",
       "      <td>NaN</td>\n",
       "      <td>NaN</td>\n",
       "    </tr>\n",
       "    <tr>\n",
       "      <th>1</th>\n",
       "      <td>2</td>\n",
       "      <td>2</td>\n",
       "      <td>Ignorado</td>\n",
       "      <td>Masculino</td>\n",
       "      <td>Maceió</td>\n",
       "      <td>Confirmado</td>\n",
       "      <td>Encerramento do Isolamento Domiciliar</td>\n",
       "      <td>2020-03-18T03:00:00</td>\n",
       "      <td>2020-03-14T03:00:00</td>\n",
       "      <td>Swab nasofaringe + RT-PCR</td>\n",
       "      <td>...</td>\n",
       "      <td>NaN</td>\n",
       "      <td>NaN</td>\n",
       "      <td>NaN</td>\n",
       "      <td>NaN</td>\n",
       "      <td>NaN</td>\n",
       "      <td>NaN</td>\n",
       "      <td>NaN</td>\n",
       "      <td>NaN</td>\n",
       "      <td>NaN</td>\n",
       "      <td>NaN</td>\n",
       "    </tr>\n",
       "    <tr>\n",
       "      <th>2</th>\n",
       "      <td>3</td>\n",
       "      <td>3</td>\n",
       "      <td>Ignorado</td>\n",
       "      <td>Feminino</td>\n",
       "      <td>Maceió</td>\n",
       "      <td>Confirmado</td>\n",
       "      <td>Encerramento do Isolamento Domiciliar</td>\n",
       "      <td>2020-03-18T03:00:00</td>\n",
       "      <td>2020-03-14T03:00:00</td>\n",
       "      <td>Swab nasofaringe + RT-PCR</td>\n",
       "      <td>...</td>\n",
       "      <td>NaN</td>\n",
       "      <td>NaN</td>\n",
       "      <td>NaN</td>\n",
       "      <td>NaN</td>\n",
       "      <td>NaN</td>\n",
       "      <td>NaN</td>\n",
       "      <td>NaN</td>\n",
       "      <td>NaN</td>\n",
       "      <td>X</td>\n",
       "      <td>NaN</td>\n",
       "    </tr>\n",
       "    <tr>\n",
       "      <th>3</th>\n",
       "      <td>4</td>\n",
       "      <td>4</td>\n",
       "      <td>Ignorado</td>\n",
       "      <td>Feminino</td>\n",
       "      <td>Maceió</td>\n",
       "      <td>Confirmado</td>\n",
       "      <td>Óbito</td>\n",
       "      <td>2020-04-16T03:00:00</td>\n",
       "      <td>2020-03-14T03:00:00</td>\n",
       "      <td>Swab nasofaringe + RT-PCR</td>\n",
       "      <td>...</td>\n",
       "      <td>NaN</td>\n",
       "      <td>NaN</td>\n",
       "      <td>NaN</td>\n",
       "      <td>NaN</td>\n",
       "      <td>NaN</td>\n",
       "      <td>NaN</td>\n",
       "      <td>NaN</td>\n",
       "      <td>NaN</td>\n",
       "      <td>NaN</td>\n",
       "      <td>NaN</td>\n",
       "    </tr>\n",
       "    <tr>\n",
       "      <th>4</th>\n",
       "      <td>5</td>\n",
       "      <td>6</td>\n",
       "      <td>Ignorado</td>\n",
       "      <td>Masculino</td>\n",
       "      <td>Maceió</td>\n",
       "      <td>Confirmado</td>\n",
       "      <td>Óbito</td>\n",
       "      <td>2020-03-31T03:00:00</td>\n",
       "      <td>2020-03-16T03:00:00</td>\n",
       "      <td>Swab nasofaringe + RT-PCR</td>\n",
       "      <td>...</td>\n",
       "      <td>NaN</td>\n",
       "      <td>NaN</td>\n",
       "      <td>NaN</td>\n",
       "      <td>NaN</td>\n",
       "      <td>NaN</td>\n",
       "      <td>NaN</td>\n",
       "      <td>NaN</td>\n",
       "      <td>NaN</td>\n",
       "      <td>NaN</td>\n",
       "      <td>NaN</td>\n",
       "    </tr>\n",
       "  </tbody>\n",
       "</table>\n",
       "<p>5 rows × 46 columns</p>\n",
       "</div>"
      ],
      "text/plain": [
       "   _id  id     etnia       sexo municipio_residencia classificacao  \\\n",
       "0    1   1  Ignorado  Masculino               Maceió    Confirmado   \n",
       "1    2   2  Ignorado  Masculino               Maceió    Confirmado   \n",
       "2    3   3  Ignorado   Feminino               Maceió    Confirmado   \n",
       "3    4   4  Ignorado   Feminino               Maceió    Confirmado   \n",
       "4    5   6  Ignorado  Masculino               Maceió    Confirmado   \n",
       "\n",
       "                          situacao_atual data_resultado_exame  \\\n",
       "0  Encerramento do Isolamento Domiciliar  2020-03-08T03:00:00   \n",
       "1  Encerramento do Isolamento Domiciliar  2020-03-18T03:00:00   \n",
       "2  Encerramento do Isolamento Domiciliar  2020-03-18T03:00:00   \n",
       "3                                  Óbito  2020-04-16T03:00:00   \n",
       "4                                  Óbito  2020-03-31T03:00:00   \n",
       "\n",
       "      data_atendimento                tipo_coleta  ...  idoso  \\\n",
       "0  2020-03-04T03:00:00  Swab nasofaringe + RT-PCR  ...    NaN   \n",
       "1  2020-03-14T03:00:00  Swab nasofaringe + RT-PCR  ...    NaN   \n",
       "2  2020-03-14T03:00:00  Swab nasofaringe + RT-PCR  ...    NaN   \n",
       "3  2020-03-14T03:00:00  Swab nasofaringe + RT-PCR  ...    NaN   \n",
       "4  2020-03-16T03:00:00  Swab nasofaringe + RT-PCR  ...    NaN   \n",
       "\n",
       "  profissional_saude obesidade  doenca_renal_cronica  doenca_auto_imune asma  \\\n",
       "0                NaN       NaN                   NaN                NaN  NaN   \n",
       "1                NaN       NaN                   NaN                NaN  NaN   \n",
       "2                NaN       NaN                   NaN                NaN  NaN   \n",
       "3                NaN       NaN                   NaN                NaN  NaN   \n",
       "4                NaN       NaN                   NaN                NaN  NaN   \n",
       "\n",
       "  sem_comorbidade fator_nao_informado outros_fatores pneumopatia  \n",
       "0             NaN                 NaN            NaN         NaN  \n",
       "1             NaN                 NaN            NaN         NaN  \n",
       "2             NaN                 NaN              X         NaN  \n",
       "3             NaN                 NaN            NaN         NaN  \n",
       "4             NaN                 NaN            NaN         NaN  \n",
       "\n",
       "[5 rows x 46 columns]"
      ]
     },
     "execution_count": 3,
     "metadata": {},
     "output_type": "execute_result"
    }
   ],
   "source": [
    "data.head()"
   ]
  },
  {
   "cell_type": "code",
   "execution_count": 4,
   "id": "6c322ffa",
   "metadata": {
    "scrolled": true
   },
   "outputs": [
    {
     "data": {
      "text/plain": [
       "array(['_id', 'id', 'etnia', 'sexo', 'municipio_residencia',\n",
       "       'classificacao', 'situacao_atual', 'data_resultado_exame',\n",
       "       'data_atendimento', 'tipo_coleta', 'idade', 'data_obito',\n",
       "       'data_confirmacao_obito', 'ausegia', 'anosmia', 'febre', 'tosse',\n",
       "       'cefaleia', 'dificuldade_respiratoria', 'dispineia', 'mialgia',\n",
       "       'saturacao_menor_noventa_cinco', 'adinofagia', 'diarreia',\n",
       "       'adinamia', 'nausea_vomito', 'coriza', 'congestao_nasal',\n",
       "       'calafrio', 'nao_informado', 'outros', 'doenca_cardiovascular',\n",
       "       'diabetes', 'doenca_respiratoria_cronica', 'hipertensao',\n",
       "       'paciente_oncologico', 'idoso', 'profissional_saude', 'obesidade',\n",
       "       'doenca_renal_cronica', 'doenca_auto_imune', 'asma',\n",
       "       'sem_comorbidade', 'fator_nao_informado', 'outros_fatores',\n",
       "       'pneumopatia'], dtype=object)"
      ]
     },
     "execution_count": 4,
     "metadata": {},
     "output_type": "execute_result"
    }
   ],
   "source": [
    "data.columns.values"
   ]
  },
  {
   "cell_type": "code",
   "execution_count": 5,
   "id": "8294a20b",
   "metadata": {},
   "outputs": [
    {
     "data": {
      "text/plain": [
       "situacao_atual\n",
       "Alta Hospitalar                            4084\n",
       "Alta Médica                                 732\n",
       "Encerramento do Isolamento Domiciliar     14917\n",
       "Internação Leito Clínico                   2477\n",
       "Internação UTI                              760\n",
       "Isolamento Domiciliar                    121889\n",
       "Óbito                                      3198\n",
       "dtype: int64"
      ]
     },
     "execution_count": 5,
     "metadata": {},
     "output_type": "execute_result"
    }
   ],
   "source": [
    "status = data.groupby(['situacao_atual']).size()\n",
    "status"
   ]
  },
  {
   "cell_type": "code",
   "execution_count": 6,
   "id": "836ac609",
   "metadata": {},
   "outputs": [
    {
     "data": {
      "text/plain": [
       "idade\n",
       "-7695.0    1\n",
       "-7634.0    1\n",
       "-7544.0    1\n",
       "-6399.0    1\n",
       "-5789.0    1\n",
       "          ..\n",
       " 1822.0    1\n",
       " 1935.0    1\n",
       " 1975.0    1\n",
       " 2001.0    1\n",
       " 6870.0    1\n",
       "Length: 174, dtype: int64"
      ]
     },
     "execution_count": 6,
     "metadata": {},
     "output_type": "execute_result"
    }
   ],
   "source": [
    "ages = data.groupby(['idade']).size()\n",
    "ages"
   ]
  },
  {
   "cell_type": "code",
   "execution_count": 7,
   "id": "ba13b1aa",
   "metadata": {},
   "outputs": [
    {
     "data": {
      "text/plain": [
       "idade\n",
       "1.0      527\n",
       "2.0      483\n",
       "3.0      418\n",
       "4.0      375\n",
       "5.0      410\n",
       "        ... \n",
       "105.0      5\n",
       "106.0      4\n",
       "107.0      1\n",
       "108.0      4\n",
       "109.0      1\n",
       "Length: 109, dtype: int64"
      ]
     },
     "execution_count": 7,
     "metadata": {},
     "output_type": "execute_result"
    }
   ],
   "source": [
    "data = data[data.idade >= 0]\n",
    "data = data[data.idade <= 120]\n",
    "\n",
    "ages = data.groupby(['idade']).size()\n",
    "ages"
   ]
  },
  {
   "cell_type": "code",
   "execution_count": 8,
   "id": "28c2e6f6",
   "metadata": {},
   "outputs": [
    {
     "data": {
      "image/png": "[encoded data removed]",
      "text/plain": [
       "<Figure size 432x288 with 1 Axes>"
      ]
     },
     "metadata": {
      "needs_background": "light"
     },
     "output_type": "display_data"
    }
   ],
   "source": [
    "gender = data.groupby(['sexo']).size()\n",
    "gender\n",
    "\n",
    "gender.plot.bar()\n",
    "plt.show()"
   ]
  },
  {
   "cell_type": "code",
   "execution_count": 9,
   "id": "02eaae8f",
   "metadata": {},
   "outputs": [
    {
     "data": {
      "image/png": "[encoded data removed]",
      "text/plain": [
       "<Figure size 432x288 with 1 Axes>"
      ]
     },
     "metadata": {
      "needs_background": "light"
     },
     "output_type": "display_data"
    }
   ],
   "source": [
    "data.loc[data['sexo'] == 'Mascuino', 'sexo'] = \"Masculino\"\n",
    "\n",
    "gender = data.groupby(['sexo']).size()\n",
    "gender.plot.bar()\n",
    "plt.show()"
   ]
  },
  {
   "cell_type": "code",
   "execution_count": 10,
   "id": "3f7a1715",
   "metadata": {
    "scrolled": true
   },
   "outputs": [
    {
     "data": {
      "image/png": "[encoded data removed]",
      "text/plain": [
       "<Figure size 1440x720 with 1 Axes>"
      ]
     },
     "metadata": {
      "needs_background": "light"
     },
     "output_type": "display_data"
    }
   ],
   "source": [
    "ages.plot.bar(figsize=(20,10))\n",
    "plt.show()\n"
   ]
  },
  {
   "cell_type": "code",
   "execution_count": 11,
   "id": "7898004f",
   "metadata": {
    "scrolled": true
   },
   "outputs": [
    {
     "data": {
      "image/png": "[encoded data removed]",
      "text/plain": [
       "<Figure size 1440x720 with 1 Axes>"
      ]
     },
     "metadata": {
      "needs_background": "light"
     },
     "output_type": "display_data"
    }
   ],
   "source": [
    "deaths = data[data.situacao_atual == 'Óbito']\n",
    "\n",
    "ages2 = deaths.groupby(['idade']).size()\n",
    "ages2.plot.bar(figsize=(20,10))\n",
    "plt.show()"
   ]
  }
 ],
 "metadata": {
  "kernelspec": {
   "display_name": "Python 3",
   "language": "python",
   "name": "python3"
  },
  "language_info": {
   "codemirror_mode": {
    "name": "ipython",
    "version": 3
   },
   "file_extension": ".py",
   "mimetype": "text/x-python",
   "name": "python",
   "nbconvert_exporter": "python",
   "pygments_lexer": "ipython3",
   "version": "3.7.9"
  }
 },
 "nbformat": 4,
 "nbformat_minor": 5
}
